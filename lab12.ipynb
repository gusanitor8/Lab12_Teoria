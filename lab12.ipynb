{
 "cells": [
  {
   "cell_type": "markdown",
   "metadata": {},
   "source": [
    "# Laboratorio 12 "
   ]
  },
  {
   "cell_type": "markdown",
   "metadata": {},
   "source": [
    "## Ejercicio 1 \n",
    "\n",
    "Escribir un programa en Python (o Haskell para puntos extra) que ordene una lista de diccionarios, con respecto a un key indicado usando funciones lambda. "
   ]
  },
  {
   "cell_type": "code",
   "execution_count": 5,
   "metadata": {},
   "outputs": [
    {
     "name": "stdout",
     "output_type": "stream",
     "text": [
      "Sorting by make:\n",
      "[{'make': 'Apple', 'model': 2, 'color': 'Silver'}, {'make': 'Huawei', 'model': 50, 'color': 'Gold'}, {'make': 'Nokia', 'model': 216, 'color': 'Black'}, {'make': 'Samsung', 'model': 7, 'color': 'Blue'}]\n",
      "\n",
      "Sorting by model:\n",
      "[{'make': 'Apple', 'model': 2, 'color': 'Silver'}, {'make': 'Samsung', 'model': 7, 'color': 'Blue'}, {'make': 'Huawei', 'model': 50, 'color': 'Gold'}, {'make': 'Nokia', 'model': 216, 'color': 'Black'}]\n",
      "\n",
      "Sorting by color:\n",
      "[{'make': 'Nokia', 'model': 216, 'color': 'Black'}, {'make': 'Samsung', 'model': 7, 'color': 'Blue'}, {'make': 'Huawei', 'model': 50, 'color': 'Gold'}, {'make': 'Apple', 'model': 2, 'color': 'Silver'}]\n",
      "\n"
     ]
    }
   ],
   "source": [
    "import functools\n",
    "\n",
    "devices = [\n",
    "    {\"make\": \"Nokia\", \"model\": 216, \"color\": \"Black\"},\n",
    "    {\"make\": \"Apple\", \"model\": 2, \"color\": \"Silver\"},\n",
    "    {\"make\": \"Samsung\", \"model\": 7, \"color\": \"Blue\"},\n",
    "    {\"make\": \"Huawei\", \"model\": 50, \"color\": \"Gold\"},\n",
    "]\n",
    "\n",
    "keys = devices[0].keys()\n",
    "\n",
    "for key in keys:\n",
    "    KEY = key\n",
    "    sorted_devices = sorted(\n",
    "        devices, key=functools.cmp_to_key(lambda x, y: (x[KEY] > y[KEY]) - (x[KEY] < y[KEY]))\n",
    "    )\n",
    "\n",
    "    print(f\"Sorting by {key}:\")\n",
    "    print(sorted_devices)\n",
    "    print()"
   ]
  },
  {
   "cell_type": "markdown",
   "metadata": {},
   "source": [
    "## Ejercicio 2\n",
    "Escribir un programa en Python (o Haskell para puntos extra) que calcule la potencia n-esima de cada elemento en una lista de enteros, usando funciones lambda. "
   ]
  },
  {
   "cell_type": "code",
   "execution_count": 1,
   "metadata": {},
   "outputs": [
    {
     "name": "stdout",
     "output_type": "stream",
     "text": [
      "[1, 8, 27, 64, 125, 216, 343, 512, 729, 1000]\n"
     ]
    }
   ],
   "source": [
    "numbers = [1, 2, 3, 4, 5, 6, 7, 8, 9, 10]\n",
    "\n",
    "cubed_numbers = list(map(lambda x: x**3, numbers))\n",
    "\n",
    "print(cubed_numbers)\n"
   ]
  },
  {
   "cell_type": "markdown",
   "metadata": {},
   "source": [
    "## Ejercicio 3\n",
    "Se tiene una matriz X (definida como lista de listas). Escribir un programa en Python (o Haskell para puntos extra) que calcule la matriz transpuesta XT , usando funciones lambda. La salida debe darse también como una lista de listas. "
   ]
  },
  {
   "cell_type": "code",
   "execution_count": 4,
   "metadata": {},
   "outputs": [
    {
     "name": "stdout",
     "output_type": "stream",
     "text": [
      "[[1, 4, 7], [2, 5, 8], [3, 6, 9], [1, 0, -1]]\n"
     ]
    }
   ],
   "source": [
    "def transpose_matrix(matrix):\n",
    "    return list(map(lambda x: list(x), zip(*matrix)))\n",
    "\n",
    "matrix = [[1,2,3,1], [4,5,6,0], [7,8,9,-1]]\n",
    "\n",
    "transposed_matrix = transpose_matrix(matrix)\n",
    "print(transposed_matrix)"
   ]
  },
  {
   "cell_type": "markdown",
   "metadata": {},
   "source": [
    "## Ejercicio 4\n",
    "Escribir un programa en Python (o Haskell para puntos extra) que elimine\n",
    "elementos indicados de una lista, usando las funciones lambda. Aquí los elementos a borrar también deben indicarse como una lista, y la salida debe ser la lista elementos remanentes. "
   ]
  },
  {
   "cell_type": "code",
   "execution_count": 3,
   "metadata": {},
   "outputs": [
    {
     "name": "stdout",
     "output_type": "stream",
     "text": [
      "['rojo', 'verde', 'azul', 'gris', 'negro']\n"
     ]
    }
   ],
   "source": [
    "def subtract_lists(list1, list2):\n",
    "    result_list = filter(lambda x: x not in list2, list1)\n",
    "    return list(result_list)\n",
    "\n",
    "list1 = [\"rojo\", \"verde\", \"azul\", \"amarillo\", \"gris\", \"blanco\", \"negro\"]\n",
    "list2 = [\"amarillo\", \"cafe\", \"blanco\"]\n",
    "\n",
    "result = subtract_lists(list1, list2)\n",
    "print(result)\n"
   ]
  }
 ],
 "metadata": {
  "kernelspec": {
   "display_name": "Python 3",
   "language": "python",
   "name": "python3"
  },
  "language_info": {
   "codemirror_mode": {
    "name": "ipython",
    "version": 3
   },
   "file_extension": ".py",
   "mimetype": "text/x-python",
   "name": "python",
   "nbconvert_exporter": "python",
   "pygments_lexer": "ipython3",
   "version": "3.9.2"
  }
 },
 "nbformat": 4,
 "nbformat_minor": 2
}
